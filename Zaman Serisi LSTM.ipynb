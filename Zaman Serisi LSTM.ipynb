{
 "cells": [
  {
   "cell_type": "code",
   "execution_count": 1,
   "id": "f0443e45",
   "metadata": {},
   "outputs": [],
   "source": [
    "import pandas as pd\n",
    "import numpy as np\n",
    "import matplotlib.pyplot as plt\n",
    "import matplotlib.ticker as mtick\n",
    "import seaborn as sns\n",
    "import plotly.express as px\n",
    "from datetime import datetime"
   ]
  },
  {
   "cell_type": "code",
   "execution_count": 2,
   "id": "8f924998",
   "metadata": {},
   "outputs": [],
   "source": [
    "from statsmodels.tsa.stattools import adfuller\n",
    "from pandas.plotting import autocorrelation_plot\n",
    "from statsmodels.graphics.tsaplots import plot_acf,plot_pacf\n",
    "from statsmodels.tsa.arima.model import ARIMA\n",
    "import statsmodels.api as sm\n",
    "from pandas.tseries.offsets import DateOffset"
   ]
  },
  {
   "cell_type": "code",
   "execution_count": 3,
   "id": "2d7935d5",
   "metadata": {},
   "outputs": [
    {
     "data": {
      "text/html": [
       "<div>\n",
       "<style scoped>\n",
       "    .dataframe tbody tr th:only-of-type {\n",
       "        vertical-align: middle;\n",
       "    }\n",
       "\n",
       "    .dataframe tbody tr th {\n",
       "        vertical-align: top;\n",
       "    }\n",
       "\n",
       "    .dataframe thead th {\n",
       "        text-align: right;\n",
       "    }\n",
       "</style>\n",
       "<table border=\"1\" class=\"dataframe\">\n",
       "  <thead>\n",
       "    <tr style=\"text-align: right;\">\n",
       "      <th></th>\n",
       "      <th>hotel</th>\n",
       "      <th>is_canceled</th>\n",
       "      <th>lead_time</th>\n",
       "      <th>arrival_date_year</th>\n",
       "      <th>arrival_date_month</th>\n",
       "      <th>arrival_date_week_number</th>\n",
       "      <th>arrival_date_day_of_month</th>\n",
       "      <th>stays_in_weekend_nights</th>\n",
       "      <th>stays_in_week_nights</th>\n",
       "      <th>adults</th>\n",
       "      <th>...</th>\n",
       "      <th>deposit_type</th>\n",
       "      <th>agent</th>\n",
       "      <th>company</th>\n",
       "      <th>days_in_waiting_list</th>\n",
       "      <th>customer_type</th>\n",
       "      <th>adr</th>\n",
       "      <th>required_car_parking_spaces</th>\n",
       "      <th>total_of_special_requests</th>\n",
       "      <th>reservation_status</th>\n",
       "      <th>reservation_status_date</th>\n",
       "    </tr>\n",
       "  </thead>\n",
       "  <tbody>\n",
       "    <tr>\n",
       "      <th>0</th>\n",
       "      <td>Resort Hotel</td>\n",
       "      <td>0</td>\n",
       "      <td>342</td>\n",
       "      <td>2015</td>\n",
       "      <td>July</td>\n",
       "      <td>27</td>\n",
       "      <td>1</td>\n",
       "      <td>0</td>\n",
       "      <td>0</td>\n",
       "      <td>2</td>\n",
       "      <td>...</td>\n",
       "      <td>No Deposit</td>\n",
       "      <td>NaN</td>\n",
       "      <td>NaN</td>\n",
       "      <td>0</td>\n",
       "      <td>Transient</td>\n",
       "      <td>0.0</td>\n",
       "      <td>0</td>\n",
       "      <td>0</td>\n",
       "      <td>Check-Out</td>\n",
       "      <td>2015-07-01</td>\n",
       "    </tr>\n",
       "    <tr>\n",
       "      <th>1</th>\n",
       "      <td>Resort Hotel</td>\n",
       "      <td>0</td>\n",
       "      <td>737</td>\n",
       "      <td>2015</td>\n",
       "      <td>July</td>\n",
       "      <td>27</td>\n",
       "      <td>1</td>\n",
       "      <td>0</td>\n",
       "      <td>0</td>\n",
       "      <td>2</td>\n",
       "      <td>...</td>\n",
       "      <td>No Deposit</td>\n",
       "      <td>NaN</td>\n",
       "      <td>NaN</td>\n",
       "      <td>0</td>\n",
       "      <td>Transient</td>\n",
       "      <td>0.0</td>\n",
       "      <td>0</td>\n",
       "      <td>0</td>\n",
       "      <td>Check-Out</td>\n",
       "      <td>2015-07-01</td>\n",
       "    </tr>\n",
       "    <tr>\n",
       "      <th>2</th>\n",
       "      <td>Resort Hotel</td>\n",
       "      <td>0</td>\n",
       "      <td>7</td>\n",
       "      <td>2015</td>\n",
       "      <td>July</td>\n",
       "      <td>27</td>\n",
       "      <td>1</td>\n",
       "      <td>0</td>\n",
       "      <td>1</td>\n",
       "      <td>1</td>\n",
       "      <td>...</td>\n",
       "      <td>No Deposit</td>\n",
       "      <td>NaN</td>\n",
       "      <td>NaN</td>\n",
       "      <td>0</td>\n",
       "      <td>Transient</td>\n",
       "      <td>75.0</td>\n",
       "      <td>0</td>\n",
       "      <td>0</td>\n",
       "      <td>Check-Out</td>\n",
       "      <td>2015-07-02</td>\n",
       "    </tr>\n",
       "    <tr>\n",
       "      <th>3</th>\n",
       "      <td>Resort Hotel</td>\n",
       "      <td>0</td>\n",
       "      <td>13</td>\n",
       "      <td>2015</td>\n",
       "      <td>July</td>\n",
       "      <td>27</td>\n",
       "      <td>1</td>\n",
       "      <td>0</td>\n",
       "      <td>1</td>\n",
       "      <td>1</td>\n",
       "      <td>...</td>\n",
       "      <td>No Deposit</td>\n",
       "      <td>304.0</td>\n",
       "      <td>NaN</td>\n",
       "      <td>0</td>\n",
       "      <td>Transient</td>\n",
       "      <td>75.0</td>\n",
       "      <td>0</td>\n",
       "      <td>0</td>\n",
       "      <td>Check-Out</td>\n",
       "      <td>2015-07-02</td>\n",
       "    </tr>\n",
       "    <tr>\n",
       "      <th>4</th>\n",
       "      <td>Resort Hotel</td>\n",
       "      <td>0</td>\n",
       "      <td>14</td>\n",
       "      <td>2015</td>\n",
       "      <td>July</td>\n",
       "      <td>27</td>\n",
       "      <td>1</td>\n",
       "      <td>0</td>\n",
       "      <td>2</td>\n",
       "      <td>2</td>\n",
       "      <td>...</td>\n",
       "      <td>No Deposit</td>\n",
       "      <td>240.0</td>\n",
       "      <td>NaN</td>\n",
       "      <td>0</td>\n",
       "      <td>Transient</td>\n",
       "      <td>98.0</td>\n",
       "      <td>0</td>\n",
       "      <td>1</td>\n",
       "      <td>Check-Out</td>\n",
       "      <td>2015-07-03</td>\n",
       "    </tr>\n",
       "    <tr>\n",
       "      <th>5</th>\n",
       "      <td>Resort Hotel</td>\n",
       "      <td>0</td>\n",
       "      <td>14</td>\n",
       "      <td>2015</td>\n",
       "      <td>July</td>\n",
       "      <td>27</td>\n",
       "      <td>1</td>\n",
       "      <td>0</td>\n",
       "      <td>2</td>\n",
       "      <td>2</td>\n",
       "      <td>...</td>\n",
       "      <td>No Deposit</td>\n",
       "      <td>240.0</td>\n",
       "      <td>NaN</td>\n",
       "      <td>0</td>\n",
       "      <td>Transient</td>\n",
       "      <td>98.0</td>\n",
       "      <td>0</td>\n",
       "      <td>1</td>\n",
       "      <td>Check-Out</td>\n",
       "      <td>2015-07-03</td>\n",
       "    </tr>\n",
       "    <tr>\n",
       "      <th>6</th>\n",
       "      <td>Resort Hotel</td>\n",
       "      <td>0</td>\n",
       "      <td>0</td>\n",
       "      <td>2015</td>\n",
       "      <td>July</td>\n",
       "      <td>27</td>\n",
       "      <td>1</td>\n",
       "      <td>0</td>\n",
       "      <td>2</td>\n",
       "      <td>2</td>\n",
       "      <td>...</td>\n",
       "      <td>No Deposit</td>\n",
       "      <td>NaN</td>\n",
       "      <td>NaN</td>\n",
       "      <td>0</td>\n",
       "      <td>Transient</td>\n",
       "      <td>107.0</td>\n",
       "      <td>0</td>\n",
       "      <td>0</td>\n",
       "      <td>Check-Out</td>\n",
       "      <td>2015-07-03</td>\n",
       "    </tr>\n",
       "    <tr>\n",
       "      <th>7</th>\n",
       "      <td>Resort Hotel</td>\n",
       "      <td>0</td>\n",
       "      <td>9</td>\n",
       "      <td>2015</td>\n",
       "      <td>July</td>\n",
       "      <td>27</td>\n",
       "      <td>1</td>\n",
       "      <td>0</td>\n",
       "      <td>2</td>\n",
       "      <td>2</td>\n",
       "      <td>...</td>\n",
       "      <td>No Deposit</td>\n",
       "      <td>303.0</td>\n",
       "      <td>NaN</td>\n",
       "      <td>0</td>\n",
       "      <td>Transient</td>\n",
       "      <td>103.0</td>\n",
       "      <td>0</td>\n",
       "      <td>1</td>\n",
       "      <td>Check-Out</td>\n",
       "      <td>2015-07-03</td>\n",
       "    </tr>\n",
       "    <tr>\n",
       "      <th>8</th>\n",
       "      <td>Resort Hotel</td>\n",
       "      <td>1</td>\n",
       "      <td>85</td>\n",
       "      <td>2015</td>\n",
       "      <td>July</td>\n",
       "      <td>27</td>\n",
       "      <td>1</td>\n",
       "      <td>0</td>\n",
       "      <td>3</td>\n",
       "      <td>2</td>\n",
       "      <td>...</td>\n",
       "      <td>No Deposit</td>\n",
       "      <td>240.0</td>\n",
       "      <td>NaN</td>\n",
       "      <td>0</td>\n",
       "      <td>Transient</td>\n",
       "      <td>82.0</td>\n",
       "      <td>0</td>\n",
       "      <td>1</td>\n",
       "      <td>Canceled</td>\n",
       "      <td>2015-05-06</td>\n",
       "    </tr>\n",
       "    <tr>\n",
       "      <th>9</th>\n",
       "      <td>Resort Hotel</td>\n",
       "      <td>1</td>\n",
       "      <td>75</td>\n",
       "      <td>2015</td>\n",
       "      <td>July</td>\n",
       "      <td>27</td>\n",
       "      <td>1</td>\n",
       "      <td>0</td>\n",
       "      <td>3</td>\n",
       "      <td>2</td>\n",
       "      <td>...</td>\n",
       "      <td>No Deposit</td>\n",
       "      <td>15.0</td>\n",
       "      <td>NaN</td>\n",
       "      <td>0</td>\n",
       "      <td>Transient</td>\n",
       "      <td>105.5</td>\n",
       "      <td>0</td>\n",
       "      <td>0</td>\n",
       "      <td>Canceled</td>\n",
       "      <td>2015-04-22</td>\n",
       "    </tr>\n",
       "  </tbody>\n",
       "</table>\n",
       "<p>10 rows × 32 columns</p>\n",
       "</div>"
      ],
      "text/plain": [
       "          hotel  is_canceled  lead_time  arrival_date_year arrival_date_month  \\\n",
       "0  Resort Hotel            0        342               2015               July   \n",
       "1  Resort Hotel            0        737               2015               July   \n",
       "2  Resort Hotel            0          7               2015               July   \n",
       "3  Resort Hotel            0         13               2015               July   \n",
       "4  Resort Hotel            0         14               2015               July   \n",
       "5  Resort Hotel            0         14               2015               July   \n",
       "6  Resort Hotel            0          0               2015               July   \n",
       "7  Resort Hotel            0          9               2015               July   \n",
       "8  Resort Hotel            1         85               2015               July   \n",
       "9  Resort Hotel            1         75               2015               July   \n",
       "\n",
       "   arrival_date_week_number  arrival_date_day_of_month  \\\n",
       "0                        27                          1   \n",
       "1                        27                          1   \n",
       "2                        27                          1   \n",
       "3                        27                          1   \n",
       "4                        27                          1   \n",
       "5                        27                          1   \n",
       "6                        27                          1   \n",
       "7                        27                          1   \n",
       "8                        27                          1   \n",
       "9                        27                          1   \n",
       "\n",
       "   stays_in_weekend_nights  stays_in_week_nights  adults  ...  deposit_type  \\\n",
       "0                        0                     0       2  ...    No Deposit   \n",
       "1                        0                     0       2  ...    No Deposit   \n",
       "2                        0                     1       1  ...    No Deposit   \n",
       "3                        0                     1       1  ...    No Deposit   \n",
       "4                        0                     2       2  ...    No Deposit   \n",
       "5                        0                     2       2  ...    No Deposit   \n",
       "6                        0                     2       2  ...    No Deposit   \n",
       "7                        0                     2       2  ...    No Deposit   \n",
       "8                        0                     3       2  ...    No Deposit   \n",
       "9                        0                     3       2  ...    No Deposit   \n",
       "\n",
       "   agent company days_in_waiting_list customer_type    adr  \\\n",
       "0    NaN     NaN                    0     Transient    0.0   \n",
       "1    NaN     NaN                    0     Transient    0.0   \n",
       "2    NaN     NaN                    0     Transient   75.0   \n",
       "3  304.0     NaN                    0     Transient   75.0   \n",
       "4  240.0     NaN                    0     Transient   98.0   \n",
       "5  240.0     NaN                    0     Transient   98.0   \n",
       "6    NaN     NaN                    0     Transient  107.0   \n",
       "7  303.0     NaN                    0     Transient  103.0   \n",
       "8  240.0     NaN                    0     Transient   82.0   \n",
       "9   15.0     NaN                    0     Transient  105.5   \n",
       "\n",
       "   required_car_parking_spaces  total_of_special_requests  reservation_status  \\\n",
       "0                            0                          0           Check-Out   \n",
       "1                            0                          0           Check-Out   \n",
       "2                            0                          0           Check-Out   \n",
       "3                            0                          0           Check-Out   \n",
       "4                            0                          1           Check-Out   \n",
       "5                            0                          1           Check-Out   \n",
       "6                            0                          0           Check-Out   \n",
       "7                            0                          1           Check-Out   \n",
       "8                            0                          1            Canceled   \n",
       "9                            0                          0            Canceled   \n",
       "\n",
       "  reservation_status_date  \n",
       "0              2015-07-01  \n",
       "1              2015-07-01  \n",
       "2              2015-07-02  \n",
       "3              2015-07-02  \n",
       "4              2015-07-03  \n",
       "5              2015-07-03  \n",
       "6              2015-07-03  \n",
       "7              2015-07-03  \n",
       "8              2015-05-06  \n",
       "9              2015-04-22  \n",
       "\n",
       "[10 rows x 32 columns]"
      ]
     },
     "execution_count": 3,
     "metadata": {},
     "output_type": "execute_result"
    }
   ],
   "source": [
    "df = pd.read_csv(\"hotel_bookings.csv\")\n",
    "df = df.copy()\n",
    "df.head(10)"
   ]
  },
  {
   "cell_type": "code",
   "execution_count": 4,
   "id": "046b075a",
   "metadata": {},
   "outputs": [
    {
     "name": "stdout",
     "output_type": "stream",
     "text": [
      "<class 'pandas.core.frame.DataFrame'>\n",
      "RangeIndex: 119390 entries, 0 to 119389\n",
      "Data columns (total 32 columns):\n",
      " #   Column                          Non-Null Count   Dtype  \n",
      "---  ------                          --------------   -----  \n",
      " 0   hotel                           119390 non-null  object \n",
      " 1   is_canceled                     119390 non-null  int64  \n",
      " 2   lead_time                       119390 non-null  int64  \n",
      " 3   arrival_date_year               119390 non-null  int64  \n",
      " 4   arrival_date_month              119390 non-null  object \n",
      " 5   arrival_date_week_number        119390 non-null  int64  \n",
      " 6   arrival_date_day_of_month       119390 non-null  int64  \n",
      " 7   stays_in_weekend_nights         119390 non-null  int64  \n",
      " 8   stays_in_week_nights            119390 non-null  int64  \n",
      " 9   adults                          119390 non-null  int64  \n",
      " 10  children                        119386 non-null  float64\n",
      " 11  babies                          119390 non-null  int64  \n",
      " 12  meal                            119390 non-null  object \n",
      " 13  country                         118902 non-null  object \n",
      " 14  market_segment                  119390 non-null  object \n",
      " 15  distribution_channel            119390 non-null  object \n",
      " 16  is_repeated_guest               119390 non-null  int64  \n",
      " 17  previous_cancellations          119390 non-null  int64  \n",
      " 18  previous_bookings_not_canceled  119390 non-null  int64  \n",
      " 19  reserved_room_type              119390 non-null  object \n",
      " 20  assigned_room_type              119390 non-null  object \n",
      " 21  booking_changes                 119390 non-null  int64  \n",
      " 22  deposit_type                    119390 non-null  object \n",
      " 23  agent                           103050 non-null  float64\n",
      " 24  company                         6797 non-null    float64\n",
      " 25  days_in_waiting_list            119390 non-null  int64  \n",
      " 26  customer_type                   119390 non-null  object \n",
      " 27  adr                             119390 non-null  float64\n",
      " 28  required_car_parking_spaces     119390 non-null  int64  \n",
      " 29  total_of_special_requests       119390 non-null  int64  \n",
      " 30  reservation_status              119390 non-null  object \n",
      " 31  reservation_status_date         119390 non-null  object \n",
      "dtypes: float64(4), int64(16), object(12)\n",
      "memory usage: 29.1+ MB\n"
     ]
    }
   ],
   "source": [
    "df.info()"
   ]
  },
  {
   "cell_type": "code",
   "execution_count": 5,
   "id": "42955069",
   "metadata": {},
   "outputs": [],
   "source": [
    "df[\"agent\"] = df[\"agent\"].fillna(\"Not Applicable\")\n",
    "df[\"company\"] = df[\"company\"].fillna(\"Not Applicable\")\n",
    "df[\"children\"] = df[\"children\"].fillna(0)\n",
    "df[\"country\"] = df[\"country\"].fillna(\"Unknown\")"
   ]
  },
  {
   "cell_type": "code",
   "execution_count": 6,
   "id": "044d97ab",
   "metadata": {},
   "outputs": [],
   "source": [
    "df = df.drop(df[(df.adults+df.babies+df.children)==0].index)"
   ]
  },
  {
   "cell_type": "code",
   "execution_count": 7,
   "id": "scheduled-bracket",
   "metadata": {
    "execution": {
     "iopub.execute_input": "2021-07-29T22:08:03.433447Z",
     "iopub.status.busy": "2021-07-29T22:08:03.432762Z",
     "iopub.status.idle": "2021-07-29T22:08:07.067935Z",
     "shell.execute_reply": "2021-07-29T22:08:07.067138Z",
     "shell.execute_reply.started": "2021-07-04T21:33:42.021116Z"
    },
    "papermill": {
     "duration": 3.715743,
     "end_time": "2021-07-29T22:08:07.068106",
     "exception": false,
     "start_time": "2021-07-29T22:08:03.352363",
     "status": "completed"
    },
    "tags": []
   },
   "outputs": [],
   "source": [
    "df['arrival_date_month'] = df['arrival_date_month'].map({'January':1, 'February': 2, 'March':3, 'April':4, \n",
    "                                                             'May':5, 'June':6, 'July':7,'August':8, \n",
    "                                                             'September':9, 'October':10, 'November':11,'December':12})"
   ]
  },
  {
   "cell_type": "code",
   "execution_count": 8,
   "id": "driving-posting",
   "metadata": {
    "execution": {
     "iopub.execute_input": "2021-07-29T22:08:07.203288Z",
     "iopub.status.busy": "2021-07-29T22:08:07.198240Z",
     "iopub.status.idle": "2021-07-29T22:08:07.415549Z",
     "shell.execute_reply": "2021-07-29T22:08:07.416071Z",
     "shell.execute_reply.started": "2021-07-04T21:33:47.47791Z"
    },
    "papermill": {
     "duration": 0.285535,
     "end_time": "2021-07-29T22:08:07.416330",
     "exception": false,
     "start_time": "2021-07-29T22:08:07.130795",
     "status": "completed"
    },
    "tags": []
   },
   "outputs": [],
   "source": [
    "df['arrival_date'] = df['arrival_date_year'].map(str) + '-' + df['arrival_date_month'].map(str) + '-' \\\n",
    "                       + df['arrival_date_day_of_month'].map(str)"
   ]
  },
  {
   "cell_type": "code",
   "execution_count": 9,
   "id": "b1b4927c",
   "metadata": {},
   "outputs": [
    {
     "data": {
      "text/html": [
       "<div>\n",
       "<style scoped>\n",
       "    .dataframe tbody tr th:only-of-type {\n",
       "        vertical-align: middle;\n",
       "    }\n",
       "\n",
       "    .dataframe tbody tr th {\n",
       "        vertical-align: top;\n",
       "    }\n",
       "\n",
       "    .dataframe thead th {\n",
       "        text-align: right;\n",
       "    }\n",
       "</style>\n",
       "<table border=\"1\" class=\"dataframe\">\n",
       "  <thead>\n",
       "    <tr style=\"text-align: right;\">\n",
       "      <th></th>\n",
       "      <th>hotel</th>\n",
       "      <th>is_canceled</th>\n",
       "      <th>lead_time</th>\n",
       "      <th>arrival_date_year</th>\n",
       "      <th>arrival_date_month</th>\n",
       "      <th>arrival_date_week_number</th>\n",
       "      <th>arrival_date_day_of_month</th>\n",
       "      <th>stays_in_weekend_nights</th>\n",
       "      <th>stays_in_week_nights</th>\n",
       "      <th>adults</th>\n",
       "      <th>...</th>\n",
       "      <th>agent</th>\n",
       "      <th>company</th>\n",
       "      <th>days_in_waiting_list</th>\n",
       "      <th>customer_type</th>\n",
       "      <th>adr</th>\n",
       "      <th>required_car_parking_spaces</th>\n",
       "      <th>total_of_special_requests</th>\n",
       "      <th>reservation_status</th>\n",
       "      <th>reservation_status_date</th>\n",
       "      <th>arrival_date</th>\n",
       "    </tr>\n",
       "  </thead>\n",
       "  <tbody>\n",
       "    <tr>\n",
       "      <th>0</th>\n",
       "      <td>Resort Hotel</td>\n",
       "      <td>0</td>\n",
       "      <td>342</td>\n",
       "      <td>2015</td>\n",
       "      <td>7</td>\n",
       "      <td>27</td>\n",
       "      <td>1</td>\n",
       "      <td>0</td>\n",
       "      <td>0</td>\n",
       "      <td>2</td>\n",
       "      <td>...</td>\n",
       "      <td>Not Applicable</td>\n",
       "      <td>Not Applicable</td>\n",
       "      <td>0</td>\n",
       "      <td>Transient</td>\n",
       "      <td>0.0</td>\n",
       "      <td>0</td>\n",
       "      <td>0</td>\n",
       "      <td>Check-Out</td>\n",
       "      <td>2015-07-01</td>\n",
       "      <td>2015-7-1</td>\n",
       "    </tr>\n",
       "    <tr>\n",
       "      <th>1</th>\n",
       "      <td>Resort Hotel</td>\n",
       "      <td>0</td>\n",
       "      <td>737</td>\n",
       "      <td>2015</td>\n",
       "      <td>7</td>\n",
       "      <td>27</td>\n",
       "      <td>1</td>\n",
       "      <td>0</td>\n",
       "      <td>0</td>\n",
       "      <td>2</td>\n",
       "      <td>...</td>\n",
       "      <td>Not Applicable</td>\n",
       "      <td>Not Applicable</td>\n",
       "      <td>0</td>\n",
       "      <td>Transient</td>\n",
       "      <td>0.0</td>\n",
       "      <td>0</td>\n",
       "      <td>0</td>\n",
       "      <td>Check-Out</td>\n",
       "      <td>2015-07-01</td>\n",
       "      <td>2015-7-1</td>\n",
       "    </tr>\n",
       "    <tr>\n",
       "      <th>2</th>\n",
       "      <td>Resort Hotel</td>\n",
       "      <td>0</td>\n",
       "      <td>7</td>\n",
       "      <td>2015</td>\n",
       "      <td>7</td>\n",
       "      <td>27</td>\n",
       "      <td>1</td>\n",
       "      <td>0</td>\n",
       "      <td>1</td>\n",
       "      <td>1</td>\n",
       "      <td>...</td>\n",
       "      <td>Not Applicable</td>\n",
       "      <td>Not Applicable</td>\n",
       "      <td>0</td>\n",
       "      <td>Transient</td>\n",
       "      <td>75.0</td>\n",
       "      <td>0</td>\n",
       "      <td>0</td>\n",
       "      <td>Check-Out</td>\n",
       "      <td>2015-07-02</td>\n",
       "      <td>2015-7-1</td>\n",
       "    </tr>\n",
       "    <tr>\n",
       "      <th>3</th>\n",
       "      <td>Resort Hotel</td>\n",
       "      <td>0</td>\n",
       "      <td>13</td>\n",
       "      <td>2015</td>\n",
       "      <td>7</td>\n",
       "      <td>27</td>\n",
       "      <td>1</td>\n",
       "      <td>0</td>\n",
       "      <td>1</td>\n",
       "      <td>1</td>\n",
       "      <td>...</td>\n",
       "      <td>304.0</td>\n",
       "      <td>Not Applicable</td>\n",
       "      <td>0</td>\n",
       "      <td>Transient</td>\n",
       "      <td>75.0</td>\n",
       "      <td>0</td>\n",
       "      <td>0</td>\n",
       "      <td>Check-Out</td>\n",
       "      <td>2015-07-02</td>\n",
       "      <td>2015-7-1</td>\n",
       "    </tr>\n",
       "    <tr>\n",
       "      <th>4</th>\n",
       "      <td>Resort Hotel</td>\n",
       "      <td>0</td>\n",
       "      <td>14</td>\n",
       "      <td>2015</td>\n",
       "      <td>7</td>\n",
       "      <td>27</td>\n",
       "      <td>1</td>\n",
       "      <td>0</td>\n",
       "      <td>2</td>\n",
       "      <td>2</td>\n",
       "      <td>...</td>\n",
       "      <td>240.0</td>\n",
       "      <td>Not Applicable</td>\n",
       "      <td>0</td>\n",
       "      <td>Transient</td>\n",
       "      <td>98.0</td>\n",
       "      <td>0</td>\n",
       "      <td>1</td>\n",
       "      <td>Check-Out</td>\n",
       "      <td>2015-07-03</td>\n",
       "      <td>2015-7-1</td>\n",
       "    </tr>\n",
       "  </tbody>\n",
       "</table>\n",
       "<p>5 rows × 33 columns</p>\n",
       "</div>"
      ],
      "text/plain": [
       "          hotel  is_canceled  lead_time  arrival_date_year  \\\n",
       "0  Resort Hotel            0        342               2015   \n",
       "1  Resort Hotel            0        737               2015   \n",
       "2  Resort Hotel            0          7               2015   \n",
       "3  Resort Hotel            0         13               2015   \n",
       "4  Resort Hotel            0         14               2015   \n",
       "\n",
       "   arrival_date_month  arrival_date_week_number  arrival_date_day_of_month  \\\n",
       "0                   7                        27                          1   \n",
       "1                   7                        27                          1   \n",
       "2                   7                        27                          1   \n",
       "3                   7                        27                          1   \n",
       "4                   7                        27                          1   \n",
       "\n",
       "   stays_in_weekend_nights  stays_in_week_nights  adults  ...           agent  \\\n",
       "0                        0                     0       2  ...  Not Applicable   \n",
       "1                        0                     0       2  ...  Not Applicable   \n",
       "2                        0                     1       1  ...  Not Applicable   \n",
       "3                        0                     1       1  ...           304.0   \n",
       "4                        0                     2       2  ...           240.0   \n",
       "\n",
       "          company days_in_waiting_list customer_type   adr  \\\n",
       "0  Not Applicable                    0     Transient   0.0   \n",
       "1  Not Applicable                    0     Transient   0.0   \n",
       "2  Not Applicable                    0     Transient  75.0   \n",
       "3  Not Applicable                    0     Transient  75.0   \n",
       "4  Not Applicable                    0     Transient  98.0   \n",
       "\n",
       "  required_car_parking_spaces  total_of_special_requests  reservation_status  \\\n",
       "0                           0                          0           Check-Out   \n",
       "1                           0                          0           Check-Out   \n",
       "2                           0                          0           Check-Out   \n",
       "3                           0                          0           Check-Out   \n",
       "4                           0                          1           Check-Out   \n",
       "\n",
       "   reservation_status_date arrival_date  \n",
       "0               2015-07-01     2015-7-1  \n",
       "1               2015-07-01     2015-7-1  \n",
       "2               2015-07-02     2015-7-1  \n",
       "3               2015-07-02     2015-7-1  \n",
       "4               2015-07-03     2015-7-1  \n",
       "\n",
       "[5 rows x 33 columns]"
      ]
     },
     "execution_count": 9,
     "metadata": {},
     "output_type": "execute_result"
    }
   ],
   "source": [
    "df.head()"
   ]
  },
  {
   "cell_type": "code",
   "execution_count": 10,
   "id": "07c18b71",
   "metadata": {},
   "outputs": [
    {
     "data": {
      "text/plain": [
       "(119210, 33)"
      ]
     },
     "execution_count": 10,
     "metadata": {},
     "output_type": "execute_result"
    }
   ],
   "source": [
    "df.shape"
   ]
  },
  {
   "cell_type": "code",
   "execution_count": 11,
   "id": "abf0b869",
   "metadata": {},
   "outputs": [],
   "source": [
    "df['arrival_date'] = pd.to_datetime(df['arrival_date'])\n",
    "df['reservation_status_date'] = pd.to_datetime(df['reservation_status_date'])"
   ]
  },
  {
   "cell_type": "code",
   "execution_count": 12,
   "id": "46b2e006",
   "metadata": {},
   "outputs": [],
   "source": [
    "df['Total Guests'] = df['adults'] + df['children'] + df[\"babies\"]\n",
    "df = df[df['Total Guests'] != 0]"
   ]
  },
  {
   "cell_type": "code",
   "execution_count": 13,
   "id": "6955536f",
   "metadata": {},
   "outputs": [],
   "source": [
    "#resort_otel = df[(df['hotel'] == 'Resort Hotel') & (df['is_canceled'] == 0)]\n",
    "#city_otel = df[(df['hotel'] == 'City Hotel') & (df['is_canceled'] == 0)] \n",
    "\n",
    "resort_otel = df[df['hotel'] == 'Resort Hotel']\n",
    "city_otel = df[df['hotel'] == 'City Hotel'] \n",
    "\n",
    "df = df.reset_index(drop=True)"
   ]
  },
  {
   "cell_type": "code",
   "execution_count": 14,
   "id": "53b50018",
   "metadata": {},
   "outputs": [
    {
     "data": {
      "text/plain": [
       "(119210, 34)"
      ]
     },
     "execution_count": 14,
     "metadata": {},
     "output_type": "execute_result"
    }
   ],
   "source": [
    "df.shape"
   ]
  },
  {
   "cell_type": "markdown",
   "id": "4df77c8f",
   "metadata": {},
   "source": [
    "### Resort Otel"
   ]
  },
  {
   "cell_type": "code",
   "execution_count": 15,
   "id": "cbe1f2d3",
   "metadata": {},
   "outputs": [],
   "source": [
    "arrival_date_resort = resort_otel.iloc[: ,32:33]\n",
    "total_guests_resort = resort_otel.iloc[: , 33:]"
   ]
  },
  {
   "cell_type": "code",
   "execution_count": 16,
   "id": "5e6440ad",
   "metadata": {},
   "outputs": [],
   "source": [
    "arrival_date_resort.reset_index(drop=True, inplace=True)\n",
    "total_guests_resort.reset_index(drop=True, inplace=True)\n",
    "\n",
    "resort_otel_data = pd.concat( [arrival_date_resort, total_guests_resort], axis=1) "
   ]
  },
  {
   "cell_type": "code",
   "execution_count": 17,
   "id": "0d6fd854",
   "metadata": {},
   "outputs": [
    {
     "data": {
      "text/html": [
       "<div>\n",
       "<style scoped>\n",
       "    .dataframe tbody tr th:only-of-type {\n",
       "        vertical-align: middle;\n",
       "    }\n",
       "\n",
       "    .dataframe tbody tr th {\n",
       "        vertical-align: top;\n",
       "    }\n",
       "\n",
       "    .dataframe thead th {\n",
       "        text-align: right;\n",
       "    }\n",
       "</style>\n",
       "<table border=\"1\" class=\"dataframe\">\n",
       "  <thead>\n",
       "    <tr style=\"text-align: right;\">\n",
       "      <th></th>\n",
       "      <th>arrival_date</th>\n",
       "      <th>Total Guests</th>\n",
       "    </tr>\n",
       "  </thead>\n",
       "  <tbody>\n",
       "    <tr>\n",
       "      <th>0</th>\n",
       "      <td>2015-07-01</td>\n",
       "      <td>2.0</td>\n",
       "    </tr>\n",
       "    <tr>\n",
       "      <th>1</th>\n",
       "      <td>2015-07-01</td>\n",
       "      <td>2.0</td>\n",
       "    </tr>\n",
       "    <tr>\n",
       "      <th>2</th>\n",
       "      <td>2015-07-01</td>\n",
       "      <td>1.0</td>\n",
       "    </tr>\n",
       "    <tr>\n",
       "      <th>3</th>\n",
       "      <td>2015-07-01</td>\n",
       "      <td>1.0</td>\n",
       "    </tr>\n",
       "    <tr>\n",
       "      <th>4</th>\n",
       "      <td>2015-07-01</td>\n",
       "      <td>2.0</td>\n",
       "    </tr>\n",
       "  </tbody>\n",
       "</table>\n",
       "</div>"
      ],
      "text/plain": [
       "  arrival_date  Total Guests\n",
       "0   2015-07-01           2.0\n",
       "1   2015-07-01           2.0\n",
       "2   2015-07-01           1.0\n",
       "3   2015-07-01           1.0\n",
       "4   2015-07-01           2.0"
      ]
     },
     "execution_count": 17,
     "metadata": {},
     "output_type": "execute_result"
    }
   ],
   "source": [
    "resort_otel_data.head()"
   ]
  },
  {
   "cell_type": "code",
   "execution_count": 18,
   "id": "071c48eb",
   "metadata": {},
   "outputs": [
    {
     "data": {
      "text/html": [
       "<div>\n",
       "<style scoped>\n",
       "    .dataframe tbody tr th:only-of-type {\n",
       "        vertical-align: middle;\n",
       "    }\n",
       "\n",
       "    .dataframe tbody tr th {\n",
       "        vertical-align: top;\n",
       "    }\n",
       "\n",
       "    .dataframe thead th {\n",
       "        text-align: right;\n",
       "    }\n",
       "</style>\n",
       "<table border=\"1\" class=\"dataframe\">\n",
       "  <thead>\n",
       "    <tr style=\"text-align: right;\">\n",
       "      <th></th>\n",
       "      <th>Total Guests</th>\n",
       "    </tr>\n",
       "    <tr>\n",
       "      <th>arrival_date</th>\n",
       "      <th></th>\n",
       "    </tr>\n",
       "  </thead>\n",
       "  <tbody>\n",
       "    <tr>\n",
       "      <th>2015-07-05</th>\n",
       "      <td>471.0</td>\n",
       "    </tr>\n",
       "    <tr>\n",
       "      <th>2015-07-12</th>\n",
       "      <td>614.0</td>\n",
       "    </tr>\n",
       "    <tr>\n",
       "      <th>2015-07-19</th>\n",
       "      <td>732.0</td>\n",
       "    </tr>\n",
       "    <tr>\n",
       "      <th>2015-07-26</th>\n",
       "      <td>705.0</td>\n",
       "    </tr>\n",
       "    <tr>\n",
       "      <th>2015-08-02</th>\n",
       "      <td>781.0</td>\n",
       "    </tr>\n",
       "    <tr>\n",
       "      <th>...</th>\n",
       "      <td>...</td>\n",
       "    </tr>\n",
       "    <tr>\n",
       "      <th>2017-08-06</th>\n",
       "      <td>1061.0</td>\n",
       "    </tr>\n",
       "    <tr>\n",
       "      <th>2017-08-13</th>\n",
       "      <td>882.0</td>\n",
       "    </tr>\n",
       "    <tr>\n",
       "      <th>2017-08-20</th>\n",
       "      <td>1058.0</td>\n",
       "    </tr>\n",
       "    <tr>\n",
       "      <th>2017-08-27</th>\n",
       "      <td>946.0</td>\n",
       "    </tr>\n",
       "    <tr>\n",
       "      <th>2017-09-03</th>\n",
       "      <td>477.0</td>\n",
       "    </tr>\n",
       "  </tbody>\n",
       "</table>\n",
       "<p>114 rows × 1 columns</p>\n",
       "</div>"
      ],
      "text/plain": [
       "              Total Guests\n",
       "arrival_date              \n",
       "2015-07-05           471.0\n",
       "2015-07-12           614.0\n",
       "2015-07-19           732.0\n",
       "2015-07-26           705.0\n",
       "2015-08-02           781.0\n",
       "...                    ...\n",
       "2017-08-06          1061.0\n",
       "2017-08-13           882.0\n",
       "2017-08-20          1058.0\n",
       "2017-08-27           946.0\n",
       "2017-09-03           477.0\n",
       "\n",
       "[114 rows x 1 columns]"
      ]
     },
     "execution_count": 18,
     "metadata": {},
     "output_type": "execute_result"
    }
   ],
   "source": [
    "#resort_otel_data = resort_otel_data.resample('m', on='arrival_date').sum()\n",
    "resort_otel_data = resort_otel_data.resample('w', on='arrival_date').sum()\n",
    "#resort_otel_data = resort_otel_data.resample('D', on='arrival_date').sum()\n",
    "\n",
    "resort_otel_data"
   ]
  },
  {
   "cell_type": "markdown",
   "id": "025f2a09",
   "metadata": {},
   "source": [
    "### City Otel"
   ]
  },
  {
   "cell_type": "code",
   "execution_count": 19,
   "id": "79907aef",
   "metadata": {},
   "outputs": [],
   "source": [
    "arrival_date_city = city_otel.iloc[: ,32:33]\n",
    "total_guests_city = city_otel.iloc[: , 33:]"
   ]
  },
  {
   "cell_type": "code",
   "execution_count": 20,
   "id": "da196197",
   "metadata": {},
   "outputs": [],
   "source": [
    "arrival_date_city.reset_index(drop=True, inplace=True)\n",
    "total_guests_city.reset_index(drop=True, inplace=True)\n",
    "\n",
    "city_otel_data = pd.concat( [arrival_date_city, total_guests_city], axis=1) "
   ]
  },
  {
   "cell_type": "code",
   "execution_count": 21,
   "id": "366df2e4",
   "metadata": {
    "scrolled": true
   },
   "outputs": [
    {
     "data": {
      "text/html": [
       "<div>\n",
       "<style scoped>\n",
       "    .dataframe tbody tr th:only-of-type {\n",
       "        vertical-align: middle;\n",
       "    }\n",
       "\n",
       "    .dataframe tbody tr th {\n",
       "        vertical-align: top;\n",
       "    }\n",
       "\n",
       "    .dataframe thead th {\n",
       "        text-align: right;\n",
       "    }\n",
       "</style>\n",
       "<table border=\"1\" class=\"dataframe\">\n",
       "  <thead>\n",
       "    <tr style=\"text-align: right;\">\n",
       "      <th></th>\n",
       "      <th>arrival_date</th>\n",
       "      <th>Total Guests</th>\n",
       "    </tr>\n",
       "  </thead>\n",
       "  <tbody>\n",
       "    <tr>\n",
       "      <th>0</th>\n",
       "      <td>2015-07-01</td>\n",
       "      <td>1.0</td>\n",
       "    </tr>\n",
       "    <tr>\n",
       "      <th>1</th>\n",
       "      <td>2015-07-01</td>\n",
       "      <td>2.0</td>\n",
       "    </tr>\n",
       "    <tr>\n",
       "      <th>2</th>\n",
       "      <td>2015-07-01</td>\n",
       "      <td>1.0</td>\n",
       "    </tr>\n",
       "    <tr>\n",
       "      <th>3</th>\n",
       "      <td>2015-07-01</td>\n",
       "      <td>2.0</td>\n",
       "    </tr>\n",
       "    <tr>\n",
       "      <th>4</th>\n",
       "      <td>2015-07-02</td>\n",
       "      <td>2.0</td>\n",
       "    </tr>\n",
       "  </tbody>\n",
       "</table>\n",
       "</div>"
      ],
      "text/plain": [
       "  arrival_date  Total Guests\n",
       "0   2015-07-01           1.0\n",
       "1   2015-07-01           2.0\n",
       "2   2015-07-01           1.0\n",
       "3   2015-07-01           2.0\n",
       "4   2015-07-02           2.0"
      ]
     },
     "execution_count": 21,
     "metadata": {},
     "output_type": "execute_result"
    }
   ],
   "source": [
    "city_otel_data.head()"
   ]
  },
  {
   "cell_type": "code",
   "execution_count": 22,
   "id": "5a607802",
   "metadata": {},
   "outputs": [
    {
     "data": {
      "text/html": [
       "<div>\n",
       "<style scoped>\n",
       "    .dataframe tbody tr th:only-of-type {\n",
       "        vertical-align: middle;\n",
       "    }\n",
       "\n",
       "    .dataframe tbody tr th {\n",
       "        vertical-align: top;\n",
       "    }\n",
       "\n",
       "    .dataframe thead th {\n",
       "        text-align: right;\n",
       "    }\n",
       "</style>\n",
       "<table border=\"1\" class=\"dataframe\">\n",
       "  <thead>\n",
       "    <tr style=\"text-align: right;\">\n",
       "      <th></th>\n",
       "      <th>Total Guests</th>\n",
       "    </tr>\n",
       "    <tr>\n",
       "      <th>arrival_date</th>\n",
       "      <th></th>\n",
       "    </tr>\n",
       "  </thead>\n",
       "  <tbody>\n",
       "    <tr>\n",
       "      <th>2015-07-05</th>\n",
       "      <td>354.0</td>\n",
       "    </tr>\n",
       "    <tr>\n",
       "      <th>2015-07-12</th>\n",
       "      <td>441.0</td>\n",
       "    </tr>\n",
       "    <tr>\n",
       "      <th>2015-07-19</th>\n",
       "      <td>646.0</td>\n",
       "    </tr>\n",
       "    <tr>\n",
       "      <th>2015-07-26</th>\n",
       "      <td>876.0</td>\n",
       "    </tr>\n",
       "    <tr>\n",
       "      <th>2015-08-02</th>\n",
       "      <td>446.0</td>\n",
       "    </tr>\n",
       "    <tr>\n",
       "      <th>...</th>\n",
       "      <td>...</td>\n",
       "    </tr>\n",
       "    <tr>\n",
       "      <th>2017-08-06</th>\n",
       "      <td>1584.0</td>\n",
       "    </tr>\n",
       "    <tr>\n",
       "      <th>2017-08-13</th>\n",
       "      <td>1623.0</td>\n",
       "    </tr>\n",
       "    <tr>\n",
       "      <th>2017-08-20</th>\n",
       "      <td>1802.0</td>\n",
       "    </tr>\n",
       "    <tr>\n",
       "      <th>2017-08-27</th>\n",
       "      <td>1475.0</td>\n",
       "    </tr>\n",
       "    <tr>\n",
       "      <th>2017-09-03</th>\n",
       "      <td>649.0</td>\n",
       "    </tr>\n",
       "  </tbody>\n",
       "</table>\n",
       "<p>114 rows × 1 columns</p>\n",
       "</div>"
      ],
      "text/plain": [
       "              Total Guests\n",
       "arrival_date              \n",
       "2015-07-05           354.0\n",
       "2015-07-12           441.0\n",
       "2015-07-19           646.0\n",
       "2015-07-26           876.0\n",
       "2015-08-02           446.0\n",
       "...                    ...\n",
       "2017-08-06          1584.0\n",
       "2017-08-13          1623.0\n",
       "2017-08-20          1802.0\n",
       "2017-08-27          1475.0\n",
       "2017-09-03           649.0\n",
       "\n",
       "[114 rows x 1 columns]"
      ]
     },
     "execution_count": 22,
     "metadata": {},
     "output_type": "execute_result"
    }
   ],
   "source": [
    "#city_otel_data = city_otel_data.resample('m', on='arrival_date').sum()\n",
    "city_otel_data = city_otel_data.resample('w', on='arrival_date').sum()\n",
    "#city_otel_data = city_otel_data.resample('D', on='arrival_date').sum()\n",
    "\n",
    "\n",
    "city_otel_data"
   ]
  },
  {
   "cell_type": "code",
   "execution_count": 23,
   "id": "4147bca2",
   "metadata": {},
   "outputs": [],
   "source": [
    "from keras.models import Sequential\n",
    "from keras.layers import Dense , Activation , Dropout\n",
    "from keras.layers import LSTM\n",
    "from keras.layers import LeakyReLU\n",
    "import tensorflow as tf"
   ]
  },
  {
   "cell_type": "code",
   "execution_count": 24,
   "id": "9a6dc34d",
   "metadata": {},
   "outputs": [],
   "source": [
    "from keras.preprocessing.sequence import TimeseriesGenerator\n",
    "from sklearn.model_selection import train_test_split"
   ]
  },
  {
   "cell_type": "code",
   "execution_count": 25,
   "id": "0c5e1a30",
   "metadata": {},
   "outputs": [],
   "source": [
    "from sklearn.preprocessing import MinMaxScaler\n",
    "scaler = MinMaxScaler()"
   ]
  },
  {
   "cell_type": "code",
   "execution_count": 26,
   "id": "fd345549",
   "metadata": {},
   "outputs": [
    {
     "name": "stdout",
     "output_type": "stream",
     "text": [
      "(114, 1)\n",
      "(85, 1) (29, 1)\n"
     ]
    }
   ],
   "source": [
    "print(city_otel_data.shape)\n",
    "train = city_otel_data.iloc[:85]\n",
    "test  = city_otel_data.iloc[85:] \n",
    "print(train.shape , test.shape)"
   ]
  },
  {
   "cell_type": "raw",
   "id": "12aa9d3a",
   "metadata": {},
   "source": [
    "scaler.fit(train)\n",
    "\n",
    "scaled_train = scaler.transform(train)\n",
    "scaled_test  = scaler.transform(test)"
   ]
  },
  {
   "cell_type": "code",
   "execution_count": 27,
   "id": "c3b17dc4",
   "metadata": {},
   "outputs": [],
   "source": [
    "data_train = np.array(train)"
   ]
  },
  {
   "cell_type": "code",
   "execution_count": 28,
   "id": "eade10c5",
   "metadata": {},
   "outputs": [],
   "source": [
    "X_train , y_train = [] , []\n",
    "\n",
    "for i in range(7 , len(data_train)-7):\n",
    "    X_train.append(data_train[i-7:i])\n",
    "    y_train.append(data_train[i:i+7])"
   ]
  },
  {
   "cell_type": "code",
   "execution_count": 29,
   "id": "2f4e48a5",
   "metadata": {},
   "outputs": [],
   "source": [
    "X_train , y_train = np.array(X_train) , np.array(y_train)"
   ]
  },
  {
   "cell_type": "code",
   "execution_count": 30,
   "id": "7ade78ec",
   "metadata": {},
   "outputs": [
    {
     "data": {
      "text/plain": [
       "((71, 7, 1), (71, 7, 1))"
      ]
     },
     "execution_count": 30,
     "metadata": {},
     "output_type": "execute_result"
    }
   ],
   "source": [
    "X_train.shape , y_train.shape"
   ]
  },
  {
   "cell_type": "code",
   "execution_count": 31,
   "id": "36f95b4e",
   "metadata": {},
   "outputs": [],
   "source": [
    "nsamples, nx, ny = X_train.shape\n",
    "X_train = X_train.reshape((nsamples,nx*ny))"
   ]
  },
  {
   "cell_type": "code",
   "execution_count": 32,
   "id": "d1ecca21",
   "metadata": {},
   "outputs": [],
   "source": [
    "nsamples, nx, ny = y_train.shape\n",
    "y_train = y_train.reshape((nsamples,nx*ny))"
   ]
  },
  {
   "cell_type": "code",
   "execution_count": 33,
   "id": "fc71ac4b",
   "metadata": {},
   "outputs": [
    {
     "data": {
      "text/plain": [
       "((71, 7), (71, 7))"
      ]
     },
     "execution_count": 33,
     "metadata": {},
     "output_type": "execute_result"
    }
   ],
   "source": [
    "X_train.shape , y_train.shape"
   ]
  },
  {
   "cell_type": "code",
   "execution_count": 34,
   "id": "a925fd42",
   "metadata": {},
   "outputs": [],
   "source": [
    "x_scaler = MinMaxScaler()\n",
    "X_train = x_scaler.fit_transform(X_train)"
   ]
  },
  {
   "cell_type": "code",
   "execution_count": 35,
   "id": "2ed823fb",
   "metadata": {},
   "outputs": [],
   "source": [
    "y_scaler = MinMaxScaler()\n",
    "y_train = y_scaler.fit_transform(y_train)"
   ]
  },
  {
   "cell_type": "code",
   "execution_count": 36,
   "id": "a7511e39",
   "metadata": {},
   "outputs": [
    {
     "data": {
      "text/html": [
       "<div>\n",
       "<style scoped>\n",
       "    .dataframe tbody tr th:only-of-type {\n",
       "        vertical-align: middle;\n",
       "    }\n",
       "\n",
       "    .dataframe tbody tr th {\n",
       "        vertical-align: top;\n",
       "    }\n",
       "\n",
       "    .dataframe thead th {\n",
       "        text-align: right;\n",
       "    }\n",
       "</style>\n",
       "<table border=\"1\" class=\"dataframe\">\n",
       "  <thead>\n",
       "    <tr style=\"text-align: right;\">\n",
       "      <th></th>\n",
       "      <th>0</th>\n",
       "      <th>1</th>\n",
       "      <th>2</th>\n",
       "      <th>3</th>\n",
       "      <th>4</th>\n",
       "      <th>5</th>\n",
       "      <th>6</th>\n",
       "    </tr>\n",
       "  </thead>\n",
       "  <tbody>\n",
       "    <tr>\n",
       "      <th>0</th>\n",
       "      <td>0.049280</td>\n",
       "      <td>0.097453</td>\n",
       "      <td>0.210963</td>\n",
       "      <td>0.338317</td>\n",
       "      <td>0.100221</td>\n",
       "      <td>0.494463</td>\n",
       "      <td>0.749169</td>\n",
       "    </tr>\n",
       "    <tr>\n",
       "      <th>1</th>\n",
       "      <td>0.097453</td>\n",
       "      <td>0.210963</td>\n",
       "      <td>0.338317</td>\n",
       "      <td>0.100221</td>\n",
       "      <td>0.494463</td>\n",
       "      <td>0.749169</td>\n",
       "      <td>0.359358</td>\n",
       "    </tr>\n",
       "    <tr>\n",
       "      <th>2</th>\n",
       "      <td>0.210963</td>\n",
       "      <td>0.338317</td>\n",
       "      <td>0.100221</td>\n",
       "      <td>0.494463</td>\n",
       "      <td>0.749169</td>\n",
       "      <td>0.359358</td>\n",
       "      <td>0.390365</td>\n",
       "    </tr>\n",
       "    <tr>\n",
       "      <th>3</th>\n",
       "      <td>0.338317</td>\n",
       "      <td>0.100221</td>\n",
       "      <td>0.494463</td>\n",
       "      <td>0.749169</td>\n",
       "      <td>0.359358</td>\n",
       "      <td>0.390365</td>\n",
       "      <td>0.548173</td>\n",
       "    </tr>\n",
       "    <tr>\n",
       "      <th>4</th>\n",
       "      <td>0.100221</td>\n",
       "      <td>0.494463</td>\n",
       "      <td>0.749169</td>\n",
       "      <td>0.359358</td>\n",
       "      <td>0.390365</td>\n",
       "      <td>0.548173</td>\n",
       "      <td>0.612403</td>\n",
       "    </tr>\n",
       "  </tbody>\n",
       "</table>\n",
       "</div>"
      ],
      "text/plain": [
       "          0         1         2         3         4         5         6\n",
       "0  0.049280  0.097453  0.210963  0.338317  0.100221  0.494463  0.749169\n",
       "1  0.097453  0.210963  0.338317  0.100221  0.494463  0.749169  0.359358\n",
       "2  0.210963  0.338317  0.100221  0.494463  0.749169  0.359358  0.390365\n",
       "3  0.338317  0.100221  0.494463  0.749169  0.359358  0.390365  0.548173\n",
       "4  0.100221  0.494463  0.749169  0.359358  0.390365  0.548173  0.612403"
      ]
     },
     "execution_count": 36,
     "metadata": {},
     "output_type": "execute_result"
    }
   ],
   "source": [
    "pd.DataFrame(X_train).head()"
   ]
  },
  {
   "cell_type": "code",
   "execution_count": 37,
   "id": "550fb99e",
   "metadata": {},
   "outputs": [
    {
     "data": {
      "text/html": [
       "<div>\n",
       "<style scoped>\n",
       "    .dataframe tbody tr th:only-of-type {\n",
       "        vertical-align: middle;\n",
       "    }\n",
       "\n",
       "    .dataframe tbody tr th {\n",
       "        vertical-align: top;\n",
       "    }\n",
       "\n",
       "    .dataframe thead th {\n",
       "        text-align: right;\n",
       "    }\n",
       "</style>\n",
       "<table border=\"1\" class=\"dataframe\">\n",
       "  <thead>\n",
       "    <tr style=\"text-align: right;\">\n",
       "      <th></th>\n",
       "      <th>0</th>\n",
       "      <th>1</th>\n",
       "      <th>2</th>\n",
       "      <th>3</th>\n",
       "      <th>4</th>\n",
       "      <th>5</th>\n",
       "      <th>6</th>\n",
       "    </tr>\n",
       "  </thead>\n",
       "  <tbody>\n",
       "    <tr>\n",
       "      <th>0</th>\n",
       "      <td>0.359358</td>\n",
       "      <td>0.390365</td>\n",
       "      <td>0.548173</td>\n",
       "      <td>0.612403</td>\n",
       "      <td>0.847176</td>\n",
       "      <td>0.732558</td>\n",
       "      <td>0.575858</td>\n",
       "    </tr>\n",
       "    <tr>\n",
       "      <th>1</th>\n",
       "      <td>0.390365</td>\n",
       "      <td>0.548173</td>\n",
       "      <td>0.612403</td>\n",
       "      <td>0.847176</td>\n",
       "      <td>0.732558</td>\n",
       "      <td>0.575858</td>\n",
       "      <td>0.741417</td>\n",
       "    </tr>\n",
       "    <tr>\n",
       "      <th>2</th>\n",
       "      <td>0.548173</td>\n",
       "      <td>0.612403</td>\n",
       "      <td>0.847176</td>\n",
       "      <td>0.732558</td>\n",
       "      <td>0.575858</td>\n",
       "      <td>0.741417</td>\n",
       "      <td>0.759136</td>\n",
       "    </tr>\n",
       "    <tr>\n",
       "      <th>3</th>\n",
       "      <td>0.612403</td>\n",
       "      <td>0.847176</td>\n",
       "      <td>0.732558</td>\n",
       "      <td>0.575858</td>\n",
       "      <td>0.741417</td>\n",
       "      <td>0.759136</td>\n",
       "      <td>0.459025</td>\n",
       "    </tr>\n",
       "    <tr>\n",
       "      <th>4</th>\n",
       "      <td>0.847176</td>\n",
       "      <td>0.732558</td>\n",
       "      <td>0.575858</td>\n",
       "      <td>0.741417</td>\n",
       "      <td>0.759136</td>\n",
       "      <td>0.459025</td>\n",
       "      <td>0.387597</td>\n",
       "    </tr>\n",
       "  </tbody>\n",
       "</table>\n",
       "</div>"
      ],
      "text/plain": [
       "          0         1         2         3         4         5         6\n",
       "0  0.359358  0.390365  0.548173  0.612403  0.847176  0.732558  0.575858\n",
       "1  0.390365  0.548173  0.612403  0.847176  0.732558  0.575858  0.741417\n",
       "2  0.548173  0.612403  0.847176  0.732558  0.575858  0.741417  0.759136\n",
       "3  0.612403  0.847176  0.732558  0.575858  0.741417  0.759136  0.459025\n",
       "4  0.847176  0.732558  0.575858  0.741417  0.759136  0.459025  0.387597"
      ]
     },
     "execution_count": 37,
     "metadata": {},
     "output_type": "execute_result"
    }
   ],
   "source": [
    "pd.DataFrame(y_train).head()"
   ]
  },
  {
   "cell_type": "code",
   "execution_count": 38,
   "id": "332a1099",
   "metadata": {},
   "outputs": [
    {
     "data": {
      "text/plain": [
       "(71, 7)"
      ]
     },
     "execution_count": 38,
     "metadata": {},
     "output_type": "execute_result"
    }
   ],
   "source": [
    "X_train.shape"
   ]
  },
  {
   "cell_type": "code",
   "execution_count": 39,
   "id": "fc163091",
   "metadata": {},
   "outputs": [
    {
     "data": {
      "text/plain": [
       "(71, 7, 1)"
      ]
     },
     "execution_count": 39,
     "metadata": {},
     "output_type": "execute_result"
    }
   ],
   "source": [
    "X_train = X_train.reshape(71,7,1)\n",
    "X_train.shape"
   ]
  },
  {
   "cell_type": "markdown",
   "id": "233af64e",
   "metadata": {},
   "source": [
    "### Build LSTM"
   ]
  },
  {
   "cell_type": "code",
   "execution_count": 40,
   "id": "bef8dc4d",
   "metadata": {},
   "outputs": [],
   "source": [
    "model = Sequential()\n",
    "model.add(LSTM(units=200 , activation='relu' , input_shape=(7,1)))\n",
    "model.add(Dense(7))\n",
    "model.compile(loss='mse' , optimizer='adam')"
   ]
  },
  {
   "cell_type": "code",
   "execution_count": 41,
   "id": "de252d82",
   "metadata": {
    "scrolled": true
   },
   "outputs": [
    {
     "name": "stdout",
     "output_type": "stream",
     "text": [
      "Epoch 1/100\n",
      "3/3 [==============================] - 2s 16ms/step - loss: 0.4030\n",
      "Epoch 2/100\n",
      "3/3 [==============================] - 0s 14ms/step - loss: 0.3568\n",
      "Epoch 3/100\n",
      "3/3 [==============================] - 0s 15ms/step - loss: 0.3117\n",
      "Epoch 4/100\n",
      "3/3 [==============================] - 0s 15ms/step - loss: 0.2614\n",
      "Epoch 5/100\n",
      "3/3 [==============================] - 0s 15ms/step - loss: 0.2006\n",
      "Epoch 6/100\n",
      "3/3 [==============================] - 0s 13ms/step - loss: 0.1272\n",
      "Epoch 7/100\n",
      "3/3 [==============================] - 0s 16ms/step - loss: 0.0768\n",
      "Epoch 8/100\n",
      "3/3 [==============================] - 0s 17ms/step - loss: 0.0886\n",
      "Epoch 9/100\n",
      "3/3 [==============================] - 0s 18ms/step - loss: 0.0714\n",
      "Epoch 10/100\n",
      "3/3 [==============================] - 0s 15ms/step - loss: 0.0595\n",
      "Epoch 11/100\n",
      "3/3 [==============================] - 0s 16ms/step - loss: 0.0600\n",
      "Epoch 12/100\n",
      "3/3 [==============================] - 0s 19ms/step - loss: 0.0604\n",
      "Epoch 13/100\n",
      "3/3 [==============================] - 0s 13ms/step - loss: 0.0595\n",
      "Epoch 14/100\n",
      "3/3 [==============================] - 0s 14ms/step - loss: 0.0580\n",
      "Epoch 15/100\n",
      "3/3 [==============================] - 0s 13ms/step - loss: 0.0574\n",
      "Epoch 16/100\n",
      "3/3 [==============================] - 0s 14ms/step - loss: 0.0570\n",
      "Epoch 17/100\n",
      "3/3 [==============================] - 0s 14ms/step - loss: 0.0563\n",
      "Epoch 18/100\n",
      "3/3 [==============================] - 0s 12ms/step - loss: 0.0557\n",
      "Epoch 19/100\n",
      "3/3 [==============================] - 0s 13ms/step - loss: 0.0554\n",
      "Epoch 20/100\n",
      "3/3 [==============================] - 0s 13ms/step - loss: 0.0554\n",
      "Epoch 21/100\n",
      "3/3 [==============================] - 0s 12ms/step - loss: 0.0560\n",
      "Epoch 22/100\n",
      "3/3 [==============================] - 0s 14ms/step - loss: 0.0553\n",
      "Epoch 23/100\n",
      "3/3 [==============================] - 0s 12ms/step - loss: 0.0545\n",
      "Epoch 24/100\n",
      "3/3 [==============================] - 0s 13ms/step - loss: 0.0542\n",
      "Epoch 25/100\n",
      "3/3 [==============================] - 0s 14ms/step - loss: 0.0537\n",
      "Epoch 26/100\n",
      "3/3 [==============================] - ETA: 0s - loss: 0.057 - 0s 14ms/step - loss: 0.0545\n",
      "Epoch 27/100\n",
      "3/3 [==============================] - 0s 13ms/step - loss: 0.0558\n",
      "Epoch 28/100\n",
      "3/3 [==============================] - 0s 14ms/step - loss: 0.0545\n",
      "Epoch 29/100\n",
      "3/3 [==============================] - 0s 14ms/step - loss: 0.0539\n",
      "Epoch 30/100\n",
      "3/3 [==============================] - 0s 15ms/step - loss: 0.0547\n",
      "Epoch 31/100\n",
      "3/3 [==============================] - 0s 13ms/step - loss: 0.0524\n",
      "Epoch 32/100\n",
      "3/3 [==============================] - 0s 14ms/step - loss: 0.0530\n",
      "Epoch 33/100\n",
      "3/3 [==============================] - 0s 13ms/step - loss: 0.0540\n",
      "Epoch 34/100\n",
      "3/3 [==============================] - 0s 12ms/step - loss: 0.0530\n",
      "Epoch 35/100\n",
      "3/3 [==============================] - 0s 15ms/step - loss: 0.0524\n",
      "Epoch 36/100\n",
      "3/3 [==============================] - 0s 12ms/step - loss: 0.0524\n",
      "Epoch 37/100\n",
      "3/3 [==============================] - 0s 14ms/step - loss: 0.0519\n",
      "Epoch 38/100\n",
      "3/3 [==============================] - 0s 13ms/step - loss: 0.0513\n",
      "Epoch 39/100\n",
      "3/3 [==============================] - 0s 12ms/step - loss: 0.0512\n",
      "Epoch 40/100\n",
      "3/3 [==============================] - 0s 23ms/step - loss: 0.0514\n",
      "Epoch 41/100\n",
      "3/3 [==============================] - 0s 12ms/step - loss: 0.0510\n",
      "Epoch 42/100\n",
      "3/3 [==============================] - 0s 19ms/step - loss: 0.0515\n",
      "Epoch 43/100\n",
      "3/3 [==============================] - 0s 24ms/step - loss: 0.0508\n",
      "Epoch 44/100\n",
      "3/3 [==============================] - 0s 12ms/step - loss: 0.0499\n",
      "Epoch 45/100\n",
      "3/3 [==============================] - 0s 15ms/step - loss: 0.0512\n",
      "Epoch 46/100\n",
      "3/3 [==============================] - ETA: 0s - loss: 0.054 - 0s 14ms/step - loss: 0.0497\n",
      "Epoch 47/100\n",
      "3/3 [==============================] - 0s 14ms/step - loss: 0.0519\n",
      "Epoch 48/100\n",
      "3/3 [==============================] - 0s 13ms/step - loss: 0.0506\n",
      "Epoch 49/100\n",
      "3/3 [==============================] - 0s 15ms/step - loss: 0.0499\n",
      "Epoch 50/100\n",
      "3/3 [==============================] - 0s 13ms/step - loss: 0.0507\n",
      "Epoch 51/100\n",
      "3/3 [==============================] - 0s 15ms/step - loss: 0.0490\n",
      "Epoch 52/100\n",
      "3/3 [==============================] - 0s 13ms/step - loss: 0.0486\n",
      "Epoch 53/100\n",
      "3/3 [==============================] - 0s 16ms/step - loss: 0.0487\n",
      "Epoch 54/100\n",
      "3/3 [==============================] - 0s 15ms/step - loss: 0.0484\n",
      "Epoch 55/100\n",
      "3/3 [==============================] - 0s 13ms/step - loss: 0.0498\n",
      "Epoch 56/100\n",
      "3/3 [==============================] - 0s 14ms/step - loss: 0.0484\n",
      "Epoch 57/100\n",
      "3/3 [==============================] - 0s 14ms/step - loss: 0.0475\n",
      "Epoch 58/100\n",
      "3/3 [==============================] - 0s 16ms/step - loss: 0.0477\n",
      "Epoch 59/100\n",
      "3/3 [==============================] - 0s 14ms/step - loss: 0.0472\n",
      "Epoch 60/100\n",
      "3/3 [==============================] - 0s 14ms/step - loss: 0.0474\n",
      "Epoch 61/100\n",
      "3/3 [==============================] - 0s 18ms/step - loss: 0.0468\n",
      "Epoch 62/100\n",
      "3/3 [==============================] - 0s 11ms/step - loss: 0.0461\n",
      "Epoch 63/100\n",
      "3/3 [==============================] - 0s 13ms/step - loss: 0.0467\n",
      "Epoch 64/100\n",
      "3/3 [==============================] - 0s 12ms/step - loss: 0.0466\n",
      "Epoch 65/100\n",
      "3/3 [==============================] - 0s 14ms/step - loss: 0.0458\n",
      "Epoch 66/100\n",
      "3/3 [==============================] - 0s 14ms/step - loss: 0.0456\n",
      "Epoch 67/100\n",
      "3/3 [==============================] - 0s 14ms/step - loss: 0.0455\n",
      "Epoch 68/100\n",
      "3/3 [==============================] - 0s 13ms/step - loss: 0.0453\n",
      "Epoch 69/100\n",
      "3/3 [==============================] - 0s 15ms/step - loss: 0.0450\n",
      "Epoch 70/100\n",
      "3/3 [==============================] - 0s 15ms/step - loss: 0.0463\n",
      "Epoch 71/100\n",
      "3/3 [==============================] - 0s 11ms/step - loss: 0.0456\n",
      "Epoch 72/100\n",
      "3/3 [==============================] - 0s 13ms/step - loss: 0.0447\n",
      "Epoch 73/100\n",
      "3/3 [==============================] - 0s 16ms/step - loss: 0.0442\n",
      "Epoch 74/100\n",
      "3/3 [==============================] - 0s 14ms/step - loss: 0.0443\n",
      "Epoch 75/100\n",
      "3/3 [==============================] - 0s 13ms/step - loss: 0.0445\n",
      "Epoch 76/100\n",
      "3/3 [==============================] - 0s 15ms/step - loss: 0.0446\n",
      "Epoch 77/100\n",
      "3/3 [==============================] - 0s 14ms/step - loss: 0.0436\n",
      "Epoch 78/100\n",
      "3/3 [==============================] - 0s 15ms/step - loss: 0.0441\n",
      "Epoch 79/100\n",
      "3/3 [==============================] - 0s 14ms/step - loss: 0.0434\n",
      "Epoch 80/100\n",
      "3/3 [==============================] - 0s 16ms/step - loss: 0.0443\n",
      "Epoch 81/100\n",
      "3/3 [==============================] - 0s 14ms/step - loss: 0.0431\n",
      "Epoch 82/100\n",
      "3/3 [==============================] - 0s 14ms/step - loss: 0.0434\n",
      "Epoch 83/100\n",
      "3/3 [==============================] - 0s 15ms/step - loss: 0.0440\n",
      "Epoch 84/100\n",
      "3/3 [==============================] - 0s 13ms/step - loss: 0.0423\n",
      "Epoch 85/100\n",
      "3/3 [==============================] - 0s 13ms/step - loss: 0.0427\n",
      "Epoch 86/100\n",
      "3/3 [==============================] - 0s 12ms/step - loss: 0.0425\n",
      "Epoch 87/100\n",
      "3/3 [==============================] - 0s 15ms/step - loss: 0.0424\n",
      "Epoch 88/100\n",
      "3/3 [==============================] - 0s 12ms/step - loss: 0.0421\n",
      "Epoch 89/100\n",
      "3/3 [==============================] - 0s 12ms/step - loss: 0.0426\n",
      "Epoch 90/100\n",
      "3/3 [==============================] - 0s 17ms/step - loss: 0.0418\n",
      "Epoch 91/100\n",
      "3/3 [==============================] - 0s 15ms/step - loss: 0.0421\n",
      "Epoch 92/100\n",
      "3/3 [==============================] - 0s 15ms/step - loss: 0.0417\n",
      "Epoch 93/100\n",
      "3/3 [==============================] - 0s 16ms/step - loss: 0.0425\n",
      "Epoch 94/100\n",
      "3/3 [==============================] - 0s 16ms/step - loss: 0.0418\n",
      "Epoch 95/100\n",
      "3/3 [==============================] - 0s 16ms/step - loss: 0.0420\n",
      "Epoch 96/100\n",
      "3/3 [==============================] - 0s 19ms/step - loss: 0.0416\n",
      "Epoch 97/100\n",
      "3/3 [==============================] - 0s 15ms/step - loss: 0.0410\n",
      "Epoch 98/100\n",
      "3/3 [==============================] - 0s 12ms/step - loss: 0.0410\n",
      "Epoch 99/100\n",
      "3/3 [==============================] - 0s 18ms/step - loss: 0.0412\n",
      "Epoch 100/100\n",
      "3/3 [==============================] - 0s 13ms/step - loss: 0.0416\n"
     ]
    },
    {
     "data": {
      "text/plain": [
       "<keras.callbacks.History at 0x2219d6accd0>"
      ]
     },
     "execution_count": 41,
     "metadata": {},
     "output_type": "execute_result"
    }
   ],
   "source": [
    "model.fit(X_train , y_train , epochs=100)"
   ]
  },
  {
   "cell_type": "markdown",
   "id": "625a24a5",
   "metadata": {},
   "source": [
    "### Prepare Test"
   ]
  },
  {
   "cell_type": "code",
   "execution_count": 42,
   "id": "2baca58b",
   "metadata": {},
   "outputs": [],
   "source": [
    "data_test = np.array(test)"
   ]
  },
  {
   "cell_type": "code",
   "execution_count": 43,
   "id": "b991a822",
   "metadata": {},
   "outputs": [],
   "source": [
    "X_test , y_test = [] , []\n",
    "\n",
    "for i in range(7 , len(data_test)-7):\n",
    "    X_test.append(data_test[i-7:i])\n",
    "    y_test.append(data_test[i:i+7])"
   ]
  },
  {
   "cell_type": "code",
   "execution_count": 44,
   "id": "92d73a52",
   "metadata": {},
   "outputs": [],
   "source": [
    "X_test , y_test = np.array(X_test) , np.array(y_test)"
   ]
  },
  {
   "cell_type": "code",
   "execution_count": 45,
   "id": "39c14a65",
   "metadata": {},
   "outputs": [],
   "source": [
    "nsamples, nx, ny = X_test.shape\n",
    "X_test = X_test.reshape((nsamples,nx*ny))"
   ]
  },
  {
   "cell_type": "code",
   "execution_count": 46,
   "id": "80d8b1c3",
   "metadata": {},
   "outputs": [],
   "source": [
    "nsamples, nx, ny = y_test.shape\n",
    "y_test = y_test.reshape((nsamples,nx*ny))"
   ]
  },
  {
   "cell_type": "code",
   "execution_count": 47,
   "id": "ff94474a",
   "metadata": {},
   "outputs": [],
   "source": [
    "X_test = x_scaler.transform(X_test)\n",
    "y_test = y_scaler.transform(y_test)"
   ]
  },
  {
   "cell_type": "code",
   "execution_count": 48,
   "id": "fb864f6b",
   "metadata": {},
   "outputs": [
    {
     "data": {
      "text/plain": [
       "(15, 7)"
      ]
     },
     "execution_count": 48,
     "metadata": {},
     "output_type": "execute_result"
    }
   ],
   "source": [
    "X_test.shape"
   ]
  },
  {
   "cell_type": "code",
   "execution_count": 49,
   "id": "edc87d8d",
   "metadata": {},
   "outputs": [],
   "source": [
    "X_test = X_test.reshape(15,7,1)"
   ]
  },
  {
   "cell_type": "code",
   "execution_count": 50,
   "id": "2e5110f2",
   "metadata": {},
   "outputs": [],
   "source": [
    "y_pred = model.predict(X_test)"
   ]
  },
  {
   "cell_type": "code",
   "execution_count": 51,
   "id": "ed44c78a",
   "metadata": {},
   "outputs": [
    {
     "data": {
      "text/plain": [
       "array([[1404.8923, 1403.897 , 1429.9331, 1416.4365, 1359.4917, 1334.6504,\n",
       "        1303.119 ],\n",
       "       [1511.9249, 1489.0331, 1515.8518, 1505.4606, 1411.8763, 1393.234 ,\n",
       "        1336.4097],\n",
       "       [1650.2562, 1611.792 , 1625.6462, 1620.929 , 1505.9204, 1475.5676,\n",
       "        1413.8112],\n",
       "       [1756.1013, 1711.724 , 1710.6151, 1703.9535, 1587.9812, 1541.1554,\n",
       "        1485.5498],\n",
       "       [1818.6064, 1762.314 , 1758.4314, 1741.0999, 1614.4403, 1566.4889,\n",
       "        1497.6926],\n",
       "       [1867.933 , 1806.0372, 1804.1521, 1779.7946, 1647.4832, 1596.1217,\n",
       "        1527.971 ],\n",
       "       [1827.0803, 1773.1417, 1773.6523, 1729.9297, 1625.9539, 1562.5393,\n",
       "        1513.0732],\n",
       "       [1779.1053, 1722.7162, 1737.7792, 1678.3195, 1575.8153, 1525.1229,\n",
       "        1463.7643],\n",
       "       [1762.0295, 1705.8203, 1725.4603, 1667.3872, 1563.6122, 1516.4028,\n",
       "        1454.1111],\n",
       "       [1803.8708, 1743.2266, 1758.941 , 1700.1875, 1595.249 , 1538.2948,\n",
       "        1481.3502],\n",
       "       [1775.4597, 1718.2227, 1737.2799, 1673.2931, 1573.2784, 1521.0078,\n",
       "        1462.5879],\n",
       "       [1699.8273, 1655.6333, 1674.0374, 1607.4374, 1529.1514, 1475.0605,\n",
       "        1428.2074],\n",
       "       [1624.7932, 1591.1342, 1617.8049, 1550.9877, 1484.4829, 1436.0085,\n",
       "        1396.0889],\n",
       "       [1563.596 , 1530.8486, 1571.2262, 1500.4005, 1432.7445, 1397.4089,\n",
       "        1349.8773],\n",
       "       [1616.9806, 1575.072 , 1608.049 , 1549.2919, 1465.2032, 1426.6038,\n",
       "        1372.0912]], dtype=float32)"
      ]
     },
     "execution_count": 51,
     "metadata": {},
     "output_type": "execute_result"
    }
   ],
   "source": [
    "y_pred = y_scaler.inverse_transform(y_pred)\n",
    "y_pred"
   ]
  },
  {
   "cell_type": "code",
   "execution_count": 52,
   "id": "bbb05edb",
   "metadata": {},
   "outputs": [],
   "source": [
    "y_true = y_scaler.inverse_transform(y_test)"
   ]
  },
  {
   "cell_type": "code",
   "execution_count": 53,
   "id": "98d76bb6",
   "metadata": {
    "scrolled": true
   },
   "outputs": [
    {
     "name": "stdout",
     "output_type": "stream",
     "text": [
      "[[1992. 1908. 1773. 2049. 2063. 1684. 2045.]\n",
      " [1908. 1773. 2049. 2063. 1684. 2045. 1985.]\n",
      " [1773. 2049. 2063. 1684. 2045. 1985. 1898.]\n",
      " [2049. 2063. 1684. 2045. 1985. 1898. 1941.]\n",
      " [2063. 1684. 2045. 1985. 1898. 1941. 1658.]\n",
      " [1684. 2045. 1985. 1898. 1941. 1658. 1678.]\n",
      " [2045. 1985. 1898. 1941. 1658. 1678. 1861.]\n",
      " [1985. 1898. 1941. 1658. 1678. 1861. 1851.]\n",
      " [1898. 1941. 1658. 1678. 1861. 1851. 1841.]\n",
      " [1941. 1658. 1678. 1861. 1851. 1841. 1539.]\n",
      " [1658. 1678. 1861. 1851. 1841. 1539. 1742.]\n",
      " [1678. 1861. 1851. 1841. 1539. 1742. 1584.]\n",
      " [1861. 1851. 1841. 1539. 1742. 1584. 1623.]\n",
      " [1851. 1841. 1539. 1742. 1584. 1623. 1802.]\n",
      " [1841. 1539. 1742. 1584. 1623. 1802. 1475.]]\n"
     ]
    }
   ],
   "source": [
    "print(y_true)"
   ]
  },
  {
   "cell_type": "code",
   "execution_count": 54,
   "id": "96c2e983",
   "metadata": {},
   "outputs": [
    {
     "data": {
      "text/plain": [
       "(71, 7, 1)"
      ]
     },
     "execution_count": 54,
     "metadata": {},
     "output_type": "execute_result"
    }
   ],
   "source": [
    "X_train.shape"
   ]
  },
  {
   "cell_type": "markdown",
   "id": "6f8e5d2e",
   "metadata": {},
   "source": [
    "### Evaluate the model"
   ]
  },
  {
   "cell_type": "code",
   "execution_count": 57,
   "id": "e371deb1",
   "metadata": {},
   "outputs": [],
   "source": [
    "from sklearn.metrics import mean_squared_error\n",
    "from math import sqrt"
   ]
  },
  {
   "cell_type": "code",
   "execution_count": 58,
   "id": "258f95df",
   "metadata": {},
   "outputs": [],
   "source": [
    "def evaluate_model(y_true , y_predicted):\n",
    "    score=[]\n",
    "    \n",
    "    for i in range(y_true.shape[1]):\n",
    "        mse = mean_squared_error(y_true[:,i] , y_predicted[:,i])\n",
    "        rmse = np.sqrt(mse)\n",
    "        score.append(rmse)\n",
    "        \n",
    "    total_score=0\n",
    "    for row in range(y_true.shape[0]):\n",
    "        for col in range(y_predicted.shape[1]):\n",
    "            total_score = total_score + (y_true[row,col] - y_predicted[row,col])**2\n",
    "    total_score = np.sqrt(total_score/y_true.shape[0] * y_predicted.shape[1])\n",
    "    \n",
    "    return total_score , score"
   ]
  },
  {
   "cell_type": "code",
   "execution_count": 59,
   "id": "504cf243",
   "metadata": {},
   "outputs": [
    {
     "data": {
      "text/plain": [
       "(2114.490321420428,\n",
       " [261.53555641910026,\n",
       "  265.77422557709747,\n",
       "  243.86326413429734,\n",
       "  273.4378681845974,\n",
       "  319.8901732675819,\n",
       "  335.93816656302914,\n",
       "  387.6411590271771])"
      ]
     },
     "execution_count": 59,
     "metadata": {},
     "output_type": "execute_result"
    }
   ],
   "source": [
    "evaluate_model(y_true , y_pred)"
   ]
  },
  {
   "cell_type": "code",
   "execution_count": 60,
   "id": "bb2ba3a2",
   "metadata": {},
   "outputs": [
    {
     "data": {
      "text/plain": [
       "138.64946256436684"
      ]
     },
     "execution_count": 60,
     "metadata": {},
     "output_type": "execute_result"
    }
   ],
   "source": [
    "np.std(y_true[0])"
   ]
  },
  {
   "cell_type": "code",
   "execution_count": null,
   "id": "1cc351e8",
   "metadata": {},
   "outputs": [],
   "source": []
  },
  {
   "cell_type": "code",
   "execution_count": null,
   "id": "3351b522",
   "metadata": {},
   "outputs": [],
   "source": []
  },
  {
   "cell_type": "code",
   "execution_count": null,
   "id": "7b10501f",
   "metadata": {},
   "outputs": [],
   "source": []
  }
 ],
 "metadata": {
  "kernelspec": {
   "display_name": "Python 3 (ipykernel)",
   "language": "python",
   "name": "python3"
  },
  "language_info": {
   "codemirror_mode": {
    "name": "ipython",
    "version": 3
   },
   "file_extension": ".py",
   "mimetype": "text/x-python",
   "name": "python",
   "nbconvert_exporter": "python",
   "pygments_lexer": "ipython3",
   "version": "3.9.7"
  }
 },
 "nbformat": 4,
 "nbformat_minor": 5
}
